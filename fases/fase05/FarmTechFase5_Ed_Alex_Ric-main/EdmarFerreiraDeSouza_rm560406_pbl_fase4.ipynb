{
  "cells": [
    {
      "cell_type": "markdown",
      "metadata": {
        "colab_type": "text",
        "id": "view-in-github"
      },
      "source": [
        "<a href=\"https://colab.research.google.com/github/edferreira1/FarmTechFase5_Ed_Alex_Ric/blob/main/C%C3%B3pia_de_EdmarFerreiraDeSouza_rm560406_pbl_fase4.ipynb\" target=\"_parent\"><img src=\"https://colab.research.google.com/assets/colab-badge.svg\" alt=\"Open In Colab\"/></a>"
      ]
    },
    {
      "cell_type": "markdown",
      "metadata": {},
      "source": [
        "📊 Análise de Produtividade Agrícola com Machine Learning\n",
        "\n",
        "1️⃣ Introdução\n",
        "Este relatório apresenta uma análise da produtividade agrícola utilizando técnicas de Machine Learning. O objetivo é explorar a relação entre variáveis climáticas e o rendimento das colheitas, além de aplicar métodos supervisionados e não supervisionados para previsões e segmentações.\n",
        "\n",
        "2️⃣ Importação de Bibliotecas\n",
        "Para a análise, utilizamos bibliotecas essenciais do ecossistema Python, incluindo:\n",
        "- `pandas` e `numpy` para manipulação de dados;\n",
        "- `matplotlib` e `seaborn` para visualização de dados;\n",
        "- Modelos de Machine Learning das bibliotecas `sklearn`, `xgboost` e `MLPRegressor`."
      ]
    },
    {
      "cell_type": "code",
      "execution_count": null,
      "metadata": {
        "id": "Z0XJ5ecVOr3F"
      },
      "outputs": [],
      "source": [
        "#### 1. *Importando as bibliotecas de python*\n",
        "\n",
        "# Importando as bibliotecas necessárias\n",
        "import pandas as pd\n",
        "import numpy as np\n",
        "import matplotlib.pyplot as plt\n",
        "import seaborn as sns\n",
        "from sklearn.model_selection import train_test_split\n",
        "from sklearn.linear_model import LinearRegression\n",
        "from sklearn.tree import DecisionTreeRegressor\n",
        "from sklearn.ensemble import RandomForestRegressor\n",
        "from sklearn.svm import SVR\n",
        "from sklearn.metrics import mean_absolute_error, mean_squared_error, r2_score\n",
        "from sklearn.cluster import KMeans\n",
        "from sklearn.preprocessing import StandardScaler\n",
        "from xgboost import XGBRegressor\n",
        "from sklearn.cluster import DBSCAN\n",
        "from sklearn.neural_network import MLPRegressor"
      ]
    },
    {
      "cell_type": "markdown",
      "metadata": {},
      "source": [
        "📌 Descrição:\n",
        "\n",
        "Esta célula importa todas as bibliotecas necessárias para a análise. O pandas e numpy são usados para manipulação de dados, enquanto seaborn e matplotlib auxiliam na visualização. Os modelos de regressão e clusterização são importados da biblioteca scikit-learn, além do XGBoost e MLPRegressor para modelagem avançada."
      ]
    },
    {
      "cell_type": "markdown",
      "metadata": {},
      "source": [
        "3️⃣ Carregamento e Exploração dos Dados\n",
        "\n",
        "O dataset utilizado contém informações sobre variáveis climáticas e rendimento da colheita."
      ]
    },
    {
      "cell_type": "code",
      "execution_count": null,
      "metadata": {
        "colab": {
          "base_uri": "https://localhost:8080/",
          "height": 527
        },
        "id": "7neswuTMPJjE",
        "outputId": "8e3e9358-6640-4ccd-868f-adf1c36db8f3"
      },
      "outputs": [],
      "source": [
        "# Carregando os dados do arquivo\n",
        "cropy_yeld_data = pd.read_csv('crop_yield.csv')\n",
        "cropy_yeld_data.info()\n",
        "cropy_yeld_data.head()"
      ]
    },
    {
      "cell_type": "markdown",
      "metadata": {},
      "source": [
        "📌 Descrição:\n",
        "\n",
        "Aqui, carregamos os dados do arquivo CSV e usamos .info() para verificar a estrutura do dataset, incluindo o número de linhas, colunas e tipos de dados. A função .head() exibe as primeiras linhas do conjunto de dados para uma visualização inicial."
      ]
    },
    {
      "cell_type": "markdown",
      "metadata": {},
      "source": [
        "🔍 Estatísticas Descritivas\n",
        "\n",
        "Para compreender melhor a distribuição dos dados, calculamos estatísticas descritivas:"
      ]
    },
    {
      "cell_type": "code",
      "execution_count": null,
      "metadata": {
        "colab": {
          "base_uri": "https://localhost:8080/",
          "height": 317
        },
        "id": "xBnMFeGLRWm1",
        "outputId": "7341d724-d1ff-4a07-8740-6d3a96563b24"
      },
      "outputs": [],
      "source": [
        "data = cropy_yeld_data\n",
        "\n",
        "# Descrição estatística das variáveis numéricas\n",
        "data.describe()"
      ]
    },
    {
      "cell_type": "markdown",
      "metadata": {},
      "source": [
        "📌 Descrição:\n",
        "\n",
        "A função .describe() retorna estatísticas resumidas como média, desvio padrão, valores mínimos e máximos para cada variável numérica. Isso ajuda a identificar possíveis discrepâncias ou valores extremos nos dados."
      ]
    },
    {
      "cell_type": "markdown",
      "metadata": {},
      "source": [
        "5️⃣ Análise de Correlação\n",
        "\n",
        "Geramos um mapa de calor para visualizar a correlação entre as variáveis climáticas e o rendimento das colheitas."
      ]
    },
    {
      "cell_type": "code",
      "execution_count": null,
      "metadata": {
        "colab": {
          "base_uri": "https://localhost:8080/",
          "height": 782
        },
        "id": "vm-oCRURU90N",
        "outputId": "56236fc5-9eea-4a65-ffab-3e0d2fe96a8a"
      },
      "outputs": [],
      "source": [
        "# Excluir colunas não numéricas antes de calcular a correlação\n",
        "numeric_data = data.select_dtypes(include=[np.number])\n",
        "\n",
        "# Calculando e visualizando a correlação\n",
        "plt.figure(figsize=(10, 6))\n",
        "sns.heatmap(numeric_data.corr(), annot=True, cmap='coolwarm', fmt='.2f')\n",
        "plt.title(\"Mapa de Correlação das Variáveis\")\n",
        "plt.show()"
      ]
    },
    {
      "cell_type": "markdown",
      "metadata": {},
      "source": [
        "📌 Descrição:\n",
        "\n",
        "Este código gera um heatmap que exibe a correlação entre as variáveis do dataset. Valores próximos de 1 indicam forte correlação positiva, enquanto valores próximos de -1 indicam forte correlação negativa. Essa análise ajuda a identificar quais variáveis são mais relevantes para a modelagem."
      ]
    },
    {
      "cell_type": "markdown",
      "metadata": {},
      "source": [
        "6️⃣ Separação dos Dados\n",
        "\n",
        "Definimos as variáveis preditoras (X) e a variável alvo (y), além de dividir os dados entre treino e teste."
      ]
    },
    {
      "cell_type": "code",
      "execution_count": null,
      "metadata": {
        "colab": {
          "base_uri": "https://localhost:8080/"
        },
        "id": "pAGO4GmlVWdJ",
        "outputId": "ea81568b-78b5-4299-e3cd-4d22efdc95a1"
      },
      "outputs": [],
      "source": [
        "# Separando as variáveis independentes (X) e a variável dependente (y)\n",
        "X = data[['Precipitation (mm day-1)', 'Specific Humidity at 2 Meters (g/kg)',\n",
        "          'Relative Humidity at 2 Meters (%)', 'Temperature at 2 Meters (C)']]\n",
        "y = data['Yield']\n",
        "\n",
        "\n",
        "# Dividindo os dados em treino e teste\n",
        "X_train, X_test, y_train, y_test = train_test_split(X, y, test_size=0.2, random_state=42)"
      ]
    },
    {
      "cell_type": "markdown",
      "metadata": {},
      "source": [
        "📌 Descrição:\n",
        "\n",
        "Selecionamos as colunas que representam variáveis climáticas como variáveis independentes (X) e o rendimento da colheita como variável dependente (y). Em seguida, usamos train_test_split() para dividir os dados em um conjunto de treinamento (80%) e um conjunto de teste (20%)."
      ]
    },
    {
      "cell_type": "markdown",
      "metadata": {},
      "source": [
        "7️⃣ Modelagem com Regressão Linear\n",
        "\n",
        "A regressão linear é aplicada como primeira abordagem preditiva."
      ]
    },
    {
      "cell_type": "code",
      "execution_count": null,
      "metadata": {},
      "outputs": [],
      "source": [
        "# Criando o modelo de Regressão Linear\n",
        "lr_model = LinearRegression()\n",
        "lr_model.fit(X_train, y_train)\n",
        "\n",
        "# Fazendo previsões\n",
        "y_pred = lr_model.predict(X_test)"
      ]
    },
    {
      "cell_type": "markdown",
      "metadata": {},
      "source": [
        "📌 Descrição:\n",
        "\n",
        "Criamos um modelo de regressão linear simples com LinearRegression(), treinamos com os dados de treino e realizamos previsões para o conjunto de teste."
      ]
    },
    {
      "cell_type": "markdown",
      "metadata": {},
      "source": [
        "8️⃣ Avaliação da Regressão Linear\n",
        "\n",
        "Calculamos métricas para avaliar o desempenho do modelo."
      ]
    },
    {
      "cell_type": "code",
      "execution_count": null,
      "metadata": {},
      "outputs": [],
      "source": [
        "# Avaliação do modelo\n",
        "print(\"Métricas de Regressão Linear:\")\n",
        "print(\"MAE:\", mean_absolute_error(y_test, y_pred))\n",
        "print(\"MSE:\", mean_squared_error(y_test, y_pred))\n",
        "print(\"R2:\", r2_score(y_test, y_pred))"
      ]
    },
    {
      "cell_type": "markdown",
      "metadata": {},
      "source": [
        "📌 Descrição:\n",
        "\n",
        "As métricas utilizadas são:\n",
        "\n",
        "    MAE (Erro Absoluto Médio): Média dos erros absolutos entre valores reais e previstos.\n",
        "    MSE (Erro Quadrático Médio): Penaliza erros maiores mais fortemente.\n",
        "    R² (Coeficiente de Determinação): Mede a proporção da variância explicada pelo modelo."
      ]
    },
    {
      "cell_type": "markdown",
      "metadata": {},
      "source": [
        "9️⃣ Normalização dos Dados\n",
        "\n",
        "Antes de aplicar os algoritmos de Machine Learning, normalizamos os dados usando StandardScaler() para padronizar as variáveis em uma escala semelhante. Isso melhora a eficiência dos modelos, especialmente os baseados em distância."
      ]
    },
    {
      "cell_type": "code",
      "execution_count": null,
      "metadata": {
        "id": "kMzvfFfig2ov"
      },
      "outputs": [],
      "source": [
        "# Normalização\n",
        "scaler = StandardScaler()\n",
        "X_scaled = scaler.fit_transform(X)"
      ]
    },
    {
      "cell_type": "markdown",
      "metadata": {},
      "source": [
        "📌 Descrição:\n",
        "\n",
        "Aqui usamos StandardScaler() para normalizar as variáveis, transformando-as em uma distribuição com média zero e desvio padrão um. Isso melhora o desempenho de algoritmos que dependem da escala das variáveis, como K-Means e DBSCAN."
      ]
    },
    {
      "cell_type": "markdown",
      "metadata": {},
      "source": [
        "🔟 Clusterização com K-Means (ML Não Supervisionado)\n",
        "\n",
        "Utilizamos o algoritmo K-Means para agrupar os dados em três clusters. Essa abordagem permite segmentar regiões com características climáticas e produtivas semelhantes."
      ]
    },
    {
      "cell_type": "code",
      "execution_count": null,
      "metadata": {
        "colab": {
          "base_uri": "https://localhost:8080/",
          "height": 472
        },
        "id": "eT4JNcJ2g7h7",
        "outputId": "458701e5-5421-4656-a063-d35688053182"
      },
      "outputs": [],
      "source": [
        "# Clusterização (ML não supervisionado)\n",
        "kmeans = KMeans(n_clusters=3, random_state=42)\n",
        "data['Cluster'] = kmeans.fit_predict(X_scaled)\n",
        "sns.scatterplot(x=data['Temperature at 2 Meters (C)'], y=data['Yield'], hue=data['Cluster'])\n",
        "plt.title(\"Clusters de produtividade\")\n",
        "plt.show()"
      ]
    },
    {
      "cell_type": "markdown",
      "metadata": {},
      "source": [
        "📌 Descrição:\n",
        "\n",
        "O algoritmo K-Means agrupa os dados em três clusters baseados nas características climáticas.\n",
        "A visualização mostra como a temperatura influencia os clusters de produtividade."
      ]
    },
    {
      "cell_type": "markdown",
      "metadata": {},
      "source": [
        "1️⃣1️⃣ Clusterização com DBSCAN\n",
        "\n",
        "O algoritmo DBSCAN é aplicado para detectar padrões naturais nos dados, diferenciando pontos de alta densidade de regiões de ruído. Diferente do K-Means, ele não exige que o número de clusters seja definido previamente."
      ]
    },
    {
      "cell_type": "code",
      "execution_count": null,
      "metadata": {},
      "outputs": [],
      "source": [
        "# DBSCAN\n",
        "dbscan = DBSCAN(eps=0.5, min_samples=5)\n",
        "data['Cluster_DBSCAN'] = dbscan.fit_predict(X_scaled)\n",
        "\n",
        "sns.scatterplot(x=data['Temperature at 2 Meters (C)'], y=data['Yield'], hue=data['Cluster_DBSCAN'])\n",
        "plt.title(\"Clusters de produtividade com DBSCAN\")\n",
        "plt.show()"
      ]
    },
    {
      "cell_type": "markdown",
      "metadata": {},
      "source": [
        "📌 Descrição:\n",
        "\n",
        "O DBSCAN segmenta os dados sem exigir um número pré-definido de clusters.\n",
        "A visualização exibe os clusters identificados, onde pontos rotulados como -1 representam ruído."
      ]
    },
    {
      "cell_type": "markdown",
      "metadata": {},
      "source": [
        "1️⃣2️⃣ Contagem de Elementos por Cluster\n",
        "\n",
        "Aqui analisamos a quantidade de elementos em cada cluster para verificar a distribuição gerada pelos algoritmos K-Means e DBSCAN."
      ]
    },
    {
      "cell_type": "code",
      "execution_count": null,
      "metadata": {},
      "outputs": [],
      "source": [
        "# Contagem de elementos por cluster - K-Means\n",
        "print(\"Distribuição dos Clusters - K-Means:\")\n",
        "print(data['Cluster'].value_counts())\n",
        "\n",
        "# Contagem de elementos por cluster - DBSCAN\n",
        "print(\"\\nDistribuição dos Clusters - DBSCAN:\")\n",
        "print(data['Cluster_DBSCAN'].value_counts())"
      ]
    },
    {
      "cell_type": "markdown",
      "metadata": {},
      "source": [
        "📌 Descrição:\n",
        "\n",
        "Essa etapa quantifica quantos dados foram alocados em cada cluster.\n",
        "Se DBSCAN apresentar muitos pontos como -1, isso indica que muitos dados foram considerados ruído."
      ]
    },
    {
      "cell_type": "markdown",
      "metadata": {},
      "source": [
        "1️⃣3️⃣ Estatísticas de Rendimento por Cluster\n",
        "\n",
        "Avaliamos as estatísticas descritivas do rendimento da safra dentro de cada cluster identificado pelos dois algoritmos."
      ]
    },
    {
      "cell_type": "code",
      "execution_count": null,
      "metadata": {},
      "outputs": [],
      "source": [
        "# Estatísticas de rendimento por cluster - K-Means\n",
        "print(\"\\nEstatísticas de Rendimento por Cluster (K-Means):\")\n",
        "print(data.groupby('Cluster')['Yield'].describe())\n",
        "\n",
        "# Estatísticas de rendimento por cluster - DBSCAN\n",
        "print(\"\\nEstatísticas de Rendimento por Cluster (DBSCAN):\")\n",
        "print(data.groupby('Cluster_DBSCAN')['Yield'].describe())"
      ]
    },
    {
      "cell_type": "markdown",
      "metadata": {},
      "source": [
        "📌 Descrição:\n",
        "\n",
        "Essa análise estatística inclui média, mediana, desvio padrão e valores extremos dentro de cada cluster.\n",
        "Isso nos permite verificar se há diferenças significativas de produtividade entre os grupos identificados."
      ]
    },
    {
      "cell_type": "markdown",
      "metadata": {},
      "source": [
        "1️⃣4️⃣ Distribuição do Rendimento por Cluster (Boxplot)\n",
        "\n",
        "Criamos boxplots para visualizar a dispersão dos rendimentos em cada cluster identificado por K-Means e DBSCAN."
      ]
    },
    {
      "cell_type": "code",
      "execution_count": null,
      "metadata": {},
      "outputs": [],
      "source": [
        "plt.figure(figsize=(12, 5))\n",
        "\n",
        "# Boxplot para K-Means\n",
        "plt.subplot(1, 2, 1)\n",
        "sns.boxplot(x=data['Cluster'], y=data['Yield'])\n",
        "plt.title(\"Distribuição do Rendimento por Cluster - K-Means\")\n",
        "\n",
        "# Boxplot para DBSCAN\n",
        "plt.subplot(1, 2, 2)\n",
        "sns.boxplot(x=data['Cluster_DBSCAN'], y=data['Yield'])\n",
        "plt.title(\"Distribuição do Rendimento por Cluster - DBSCAN\")\n",
        "\n",
        "plt.tight_layout()\n",
        "plt.show()"
      ]
    },
    {
      "cell_type": "markdown",
      "metadata": {},
      "source": [
        "📌 Descrição:\n",
        "\n",
        "Os boxplots mostram como a rendimento varia dentro de cada cluster, revelando a presença de outliers e padrões distintos."
      ]
    },
    {
      "cell_type": "markdown",
      "metadata": {},
      "source": [
        "1️⃣5️⃣ Médias das Variáveis Climáticas por Cluster\n",
        "\n",
        "Calculamos a média das variáveis climáticas para cada cluster, buscando padrões entre temperatura, umidade e precipitação."
      ]
    },
    {
      "cell_type": "code",
      "execution_count": null,
      "metadata": {},
      "outputs": [],
      "source": [
        "# Médias das variáveis climáticas por cluster - K-Means\n",
        "print(\"\\nMédias das Variáveis Climáticas por Cluster - K-Means:\")\n",
        "print(data.groupby('Cluster')[['Precipitation (mm day-1)', \n",
        "                               'Specific Humidity at 2 Meters (g/kg)', \n",
        "                               'Relative Humidity at 2 Meters (%)', \n",
        "                               'Temperature at 2 Meters (C)']].mean())\n",
        "\n",
        "# Médias das variáveis climáticas por cluster - DBSCAN\n",
        "print(\"\\nMédias das Variáveis Climáticas por Cluster - DBSCAN:\")\n",
        "print(data.groupby('Cluster_DBSCAN')[['Precipitation (mm day-1)', \n",
        "                                      'Specific Humidity at 2 Meters (g/kg)', \n",
        "                                      'Relative Humidity at 2 Meters (%)', \n",
        "                                      'Temperature at 2 Meters (C)']].mean())"
      ]
    },
    {
      "cell_type": "markdown",
      "metadata": {},
      "source": [
        "📌 Descrição:\n",
        "\n",
        "Calculamos a média das variáveis climáticas para cada cluster, ajudando a entender quais condições climáticas estão associadas a diferentes níveis de produtividade agrícola."
      ]
    },
    {
      "cell_type": "markdown",
      "metadata": {},
      "source": [
        "## 📊 Análise dos Clusters de Produtividade\n",
        "\n",
        "### **1. Principais Conclusões**\n",
        "\n",
        "- ✅ **As condições climáticas influenciam o rendimento, mas a relação não é tão forte.**\n",
        "- ✅ **K-Means conseguiu segmentar melhor os dados em clusters equilibrados.**\n",
        "- ✅ **DBSCAN considerou muitos pontos como ruído, indicando que os dados podem não possuir padrões claros de clusterização.**\n",
        "- ✅ **Áreas mais úmedas tendem a ter maior produtividade, mas a variação dentro de cada cluster é muito alta.**"
      ]
    },
    {
      "cell_type": "markdown",
      "metadata": {},
      "source": [
        "1️⃣6️⃣ Separação dos Dados para Treinamento e Teste\n",
        "\n",
        "Dividimos os dados em conjuntos de treino (80%) e teste (20%) para treinar os modelos preditivos."
      ]
    },
    {
      "cell_type": "code",
      "execution_count": null,
      "metadata": {
        "id": "bFak1mJkhfa6"
      },
      "outputs": [],
      "source": [
        "# Separando os dados para treino e teste\n",
        "X_train, X_test, y_train, y_test = train_test_split(X_scaled, y, test_size=0.2, random_state=42)\n"
      ]
    },
    {
      "cell_type": "markdown",
      "metadata": {},
      "source": [
        "📌 Descrição:\n",
        "\n",
        "Os dados são divididos em 80% para treino e 20% para teste, garantindo que os modelos sejam treinados e avaliados corretamente."
      ]
    },
    {
      "cell_type": "markdown",
      "metadata": {},
      "source": [
        "1️⃣7️⃣ Escolha dos Modelos Preditivos\n",
        "\n",
        "Selecionamos cinco modelos de regressão para prever o rendimento da safra, abrangendo métodos lineares, baseados em árvores e redes neurais."
      ]
    },
    {
      "cell_type": "code",
      "execution_count": null,
      "metadata": {
        "id": "55p4PgfEhjbA"
      },
      "outputs": [],
      "source": [
        "# Escolha dos modelos preditivos\n",
        "models = {\n",
        "    \"Linear Regression\": LinearRegression(),\n",
        "    \"Random Forest\": RandomForestRegressor(n_estimators=100, random_state=42),\n",
        "    \"XGBoost\": XGBRegressor(objective='reg:squarederror', random_state=42),\n",
        "    \"SVR\": SVR(kernel='rbf'),\n",
        "    \"MLP\": MLPRegressor(hidden_layer_sizes=(100, 50), \n",
        "                                       activation='relu', \n",
        "                                       solver='adam', \n",
        "                                       max_iter=500, \n",
        "                                       random_state=42),\n",
        "}"
      ]
    },
    {
      "cell_type": "markdown",
      "metadata": {},
      "source": [
        "📌 Descrição:\n",
        "\n",
        "Testamos cinco modelos diferentes e avaliamos seu desempenho utilizando métricas como R², RMSE e MAE."
      ]
    },
    {
      "cell_type": "markdown",
      "metadata": {},
      "source": [
        "1️⃣8️⃣ Treinamento e Avaliação dos Modelos\n",
        "\n",
        "Treinamos os modelos e avaliamos seu desempenho utilizando métricas como R², RMSE e MAE."
      ]
    },
    {
      "cell_type": "code",
      "execution_count": null,
      "metadata": {
        "colab": {
          "base_uri": "https://localhost:8080/"
        },
        "id": "GmsWl3AshqXC",
        "outputId": "8b092695-7568-480a-a3a1-c702314dbbe0"
      },
      "outputs": [],
      "source": [
        "# Treinamento e avaliação\n",
        "for name, model in models.items():\n",
        "    model.fit(X_train, y_train)\n",
        "    y_pred = model.predict(X_test)\n",
        "    print(f\"\\n{name}:\")\n",
        "    print(f\"R²: {r2_score(y_test, y_pred):.4f}\")\n",
        "    print(f\"RMSE: {np.sqrt(mean_squared_error(y_test, y_pred)):.4f}\")\n",
        "    print(f\"MAE: {mean_absolute_error(y_test, y_pred):.4f}\")\n"
      ]
    },
    {
      "cell_type": "markdown",
      "metadata": {},
      "source": [
        "📌 Descrição:\n",
        "\n",
        "Testamos cinco modelos diferentes e avaliamos seu desempenho utilizando métricas como R², RMSE e MAE."
      ]
    },
    {
      "cell_type": "markdown",
      "metadata": {},
      "source": [
        "1️⃣9️⃣ Comparação entre Valores Reais e Previstos\n",
        "\n",
        "Comparamos os valores reais da safra com as previsões dos modelos Linear Regression e MLP."
      ]
    },
    {
      "cell_type": "code",
      "execution_count": null,
      "metadata": {},
      "outputs": [],
      "source": [
        "mlp_model = models[\"MLP\"]\n",
        "mlp_model.fit(X_train, y_train)\n",
        "y_pred_mlp = mlp_model.predict(X_test)\n",
        "\n",
        "# Comparação entre valores reais e previstos\n",
        "plt.figure(figsize=(8, 6))\n",
        "plt.scatter(y_test, y_pred, alpha=0.5, label=\"Linear Regression\")\n",
        "plt.scatter(y_test, y_pred_mlp, alpha=0.5, label=\"MLP Regressor\", color=\"red\")\n",
        "plt.plot([y.min(), y.max()], [y.min(), y.max()], '--', color='black')  # Linha 1:1\n",
        "plt.xlabel(\"Rendimento Real\")\n",
        "plt.ylabel(\"Rendimento Previsto\")\n",
        "plt.legend()\n",
        "plt.title(\"Comparação entre Valores Reais e Previstos\")\n",
        "plt.show()\n"
      ]
    },
    {
      "cell_type": "markdown",
      "metadata": {},
      "source": [
        "📌 Descrição:\n",
        "\n",
        "Este gráfico compara os valores reais e previstos para identificar a precisão dos modelos."
      ]
    },
    {
      "cell_type": "markdown",
      "metadata": {},
      "source": [
        "2️⃣0️⃣ Salvamento do Dataset Modificado\n",
        "\n",
        "Após todas as análises, salvamos os dados processados para uso futuro."
      ]
    },
    {
      "cell_type": "code",
      "execution_count": null,
      "metadata": {
        "id": "7sI3tpXFiQo4"
      },
      "outputs": [],
      "source": [
        "# Salvar o dataset modificado\n",
        "data.to_csv(\"crop_yield_processed.csv\", index=False)"
      ]
    },
    {
      "cell_type": "markdown",
      "metadata": {},
      "source": [
        "📌 Descrição:\n",
        "\n",
        "O dataset modificado é salvo para futuras análises."
      ]
    }
  ],
  "metadata": {
    "colab": {
      "authorship_tag": "ABX9TyPRTWj+kL1hNXo0OLamKBAD",
      "include_colab_link": true,
      "provenance": []
    },
    "kernelspec": {
      "display_name": "Python 3",
      "name": "python3"
    },
    "language_info": {
      "codemirror_mode": {
        "name": "ipython",
        "version": 3
      },
      "file_extension": ".py",
      "mimetype": "text/x-python",
      "name": "python",
      "nbconvert_exporter": "python",
      "pygments_lexer": "ipython3",
      "version": "3.11.6"
    }
  },
  "nbformat": 4,
  "nbformat_minor": 0
}
